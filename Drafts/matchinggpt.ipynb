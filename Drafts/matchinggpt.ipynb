{
 "cells": [
  {
   "cell_type": "code",
   "execution_count": 1,
   "metadata": {},
   "outputs": [
    {
     "ename": "KeyError",
     "evalue": "'\"CA\"'",
     "output_type": "error",
     "traceback": [
      "\u001b[0;31m---------------------------------------------------------------------------\u001b[0m",
      "\u001b[0;31mKeyError\u001b[0m                                  Traceback (most recent call last)",
      "File \u001b[0;32m~/opt/anaconda3/envs/ipykernel_py3/lib/python3.11/site-packages/pandas/core/indexes/base.py:3802\u001b[0m, in \u001b[0;36mIndex.get_loc\u001b[0;34m(self, key, method, tolerance)\u001b[0m\n\u001b[1;32m   3801\u001b[0m \u001b[39mtry\u001b[39;00m:\n\u001b[0;32m-> 3802\u001b[0m     \u001b[39mreturn\u001b[39;00m \u001b[39mself\u001b[39m\u001b[39m.\u001b[39m_engine\u001b[39m.\u001b[39mget_loc(casted_key)\n\u001b[1;32m   3803\u001b[0m \u001b[39mexcept\u001b[39;00m \u001b[39mKeyError\u001b[39;00m \u001b[39mas\u001b[39;00m err:\n",
      "File \u001b[0;32m~/opt/anaconda3/envs/ipykernel_py3/lib/python3.11/site-packages/pandas/_libs/index.pyx:138\u001b[0m, in \u001b[0;36mpandas._libs.index.IndexEngine.get_loc\u001b[0;34m()\u001b[0m\n",
      "File \u001b[0;32m~/opt/anaconda3/envs/ipykernel_py3/lib/python3.11/site-packages/pandas/_libs/index.pyx:165\u001b[0m, in \u001b[0;36mpandas._libs.index.IndexEngine.get_loc\u001b[0;34m()\u001b[0m\n",
      "File \u001b[0;32mpandas/_libs/hashtable_class_helper.pxi:5745\u001b[0m, in \u001b[0;36mpandas._libs.hashtable.PyObjectHashTable.get_item\u001b[0;34m()\u001b[0m\n",
      "File \u001b[0;32mpandas/_libs/hashtable_class_helper.pxi:5753\u001b[0m, in \u001b[0;36mpandas._libs.hashtable.PyObjectHashTable.get_item\u001b[0;34m()\u001b[0m\n",
      "\u001b[0;31mKeyError\u001b[0m: '\"CA\"'",
      "\nThe above exception was the direct cause of the following exception:\n",
      "\u001b[0;31mKeyError\u001b[0m                                  Traceback (most recent call last)",
      "Cell \u001b[0;32mIn[1], line 16\u001b[0m\n\u001b[1;32m     14\u001b[0m \u001b[39mfor\u001b[39;00m _, ad_row \u001b[39min\u001b[39;00m sorted_ad_df\u001b[39m.\u001b[39miterrows():\n\u001b[1;32m     15\u001b[0m     country \u001b[39m=\u001b[39m ad_row[\u001b[39m'\u001b[39m\u001b[39mdelivery_country\u001b[39m\u001b[39m'\u001b[39m]\n\u001b[0;32m---> 16\u001b[0m     suitable_mod \u001b[39m=\u001b[39m available_mods[available_mods[\u001b[39mf\u001b[39m\u001b[39m'\u001b[39m\u001b[39m\"\u001b[39m\u001b[39m{\u001b[39;00mcountry\u001b[39m}\u001b[39;00m\u001b[39m\"\u001b[39m\u001b[39m'\u001b[39m] \u001b[39m==\u001b[39m \u001b[39m1.0\u001b[39m]\u001b[39m.\u001b[39mhead(\u001b[39m1\u001b[39m)\n\u001b[1;32m     17\u001b[0m     \u001b[39mif\u001b[39;00m \u001b[39mnot\u001b[39;00m suitable_mod\u001b[39m.\u001b[39mempty:\n\u001b[1;32m     18\u001b[0m         matches\u001b[39m.\u001b[39mappend((ad_row[\u001b[39m'\u001b[39m\u001b[39mad_id\u001b[39m\u001b[39m'\u001b[39m], suitable_mod[\u001b[39m'\u001b[39m\u001b[39mmoderator\u001b[39m\u001b[39m'\u001b[39m]\u001b[39m.\u001b[39miloc[\u001b[39m0\u001b[39m]))\n",
      "File \u001b[0;32m~/opt/anaconda3/envs/ipykernel_py3/lib/python3.11/site-packages/pandas/core/frame.py:3807\u001b[0m, in \u001b[0;36mDataFrame.__getitem__\u001b[0;34m(self, key)\u001b[0m\n\u001b[1;32m   3805\u001b[0m \u001b[39mif\u001b[39;00m \u001b[39mself\u001b[39m\u001b[39m.\u001b[39mcolumns\u001b[39m.\u001b[39mnlevels \u001b[39m>\u001b[39m \u001b[39m1\u001b[39m:\n\u001b[1;32m   3806\u001b[0m     \u001b[39mreturn\u001b[39;00m \u001b[39mself\u001b[39m\u001b[39m.\u001b[39m_getitem_multilevel(key)\n\u001b[0;32m-> 3807\u001b[0m indexer \u001b[39m=\u001b[39m \u001b[39mself\u001b[39m\u001b[39m.\u001b[39mcolumns\u001b[39m.\u001b[39mget_loc(key)\n\u001b[1;32m   3808\u001b[0m \u001b[39mif\u001b[39;00m is_integer(indexer):\n\u001b[1;32m   3809\u001b[0m     indexer \u001b[39m=\u001b[39m [indexer]\n",
      "File \u001b[0;32m~/opt/anaconda3/envs/ipykernel_py3/lib/python3.11/site-packages/pandas/core/indexes/base.py:3804\u001b[0m, in \u001b[0;36mIndex.get_loc\u001b[0;34m(self, key, method, tolerance)\u001b[0m\n\u001b[1;32m   3802\u001b[0m     \u001b[39mreturn\u001b[39;00m \u001b[39mself\u001b[39m\u001b[39m.\u001b[39m_engine\u001b[39m.\u001b[39mget_loc(casted_key)\n\u001b[1;32m   3803\u001b[0m \u001b[39mexcept\u001b[39;00m \u001b[39mKeyError\u001b[39;00m \u001b[39mas\u001b[39;00m err:\n\u001b[0;32m-> 3804\u001b[0m     \u001b[39mraise\u001b[39;00m \u001b[39mKeyError\u001b[39;00m(key) \u001b[39mfrom\u001b[39;00m \u001b[39merr\u001b[39;00m\n\u001b[1;32m   3805\u001b[0m \u001b[39mexcept\u001b[39;00m \u001b[39mTypeError\u001b[39;00m:\n\u001b[1;32m   3806\u001b[0m     \u001b[39m# If we have a listlike key, _check_indexing_error will raise\u001b[39;00m\n\u001b[1;32m   3807\u001b[0m     \u001b[39m#  InvalidIndexError. Otherwise we fall through and re-raise\u001b[39;00m\n\u001b[1;32m   3808\u001b[0m     \u001b[39m#  the TypeError.\u001b[39;00m\n\u001b[1;32m   3809\u001b[0m     \u001b[39mself\u001b[39m\u001b[39m.\u001b[39m_check_indexing_error(key)\n",
      "\u001b[0;31mKeyError\u001b[0m: '\"CA\"'"
     ]
    }
   ],
   "source": [
    "import pandas as pd\n",
    "\n",
    "# Load the dataframes\n",
    "mod_df = pd.read_excel(\"mod_df_gb.xlsx\")\n",
    "ad_df = pd.read_excel(\"ad_df_gb.xlsx\")\n",
    "\n",
    "# Sort both dataframes by their respective scores in descending order\n",
    "sorted_mod_df = mod_df.sort_values(by=\"mod_score_pred\", ascending=False)\n",
    "sorted_ad_df = ad_df.sort_values(by=\"ad_score_pred\", ascending=False)\n",
    "\n",
    "# Initial matching based on delivery country\n",
    "matches = []\n",
    "available_mods = sorted_mod_df.copy()\n",
    "for _, ad_row in sorted_ad_df.iterrows():\n",
    "    country = ad_row['delivery_country']\n",
    "    suitable_mod = available_mods[available_mods[f'\"{country}\"'] == 1.0].head(1)\n",
    "    if not suitable_mod.empty:\n",
    "        matches.append((ad_row['ad_id'], suitable_mod['moderator'].iloc[0]))\n",
    "        available_mods.drop(suitable_mod.index, inplace=True)\n",
    "matched_df = pd.DataFrame(matches, columns=['ad_id', 'moderator'])\n",
    "\n",
    "# Re-use moderators for unmatched ads\n",
    "additional_matches = []\n",
    "unmatched_ads = sorted_ad_df[~sorted_ad_df['ad_id'].isin(matched_df['ad_id'])]\n",
    "for _, ad_row in unmatched_ads.iterrows():\n",
    "    country = ad_row['delivery_country']\n",
    "    suitable_mod = sorted_mod_df[sorted_mod_df[f'\"{country}\"'] == 1.0].head(1)\n",
    "    if not suitable_mod.empty:\n",
    "        additional_matches.append((ad_row['ad_id'], suitable_mod['moderator'].iloc[0]))\n",
    "additional_matched_df = pd.DataFrame(additional_matches, columns=['ad_id', 'moderator'])\n",
    "combined_matched_df = pd.concat([matched_df, additional_matched_df])\n",
    "\n",
    "# Language-based matching for remaining unmatched ads\n",
    "country_to_language = {\n",
    "    'US': 'English', 'CA': 'French', 'GB': 'English', 'AU': 'English', 'NZ': 'English', 'IE': 'English', 'ZA': 'English', 'IN': 'English', 'PH': 'English', 'SG': 'Chinese', 'MY': 'English', 'BR': 'Portuguese', 'PT': 'Portuguese', 'ES': 'Spanish', 'MX': 'Spanish', 'AR': 'Spanish', 'PE': 'Spanish', 'VE': 'Spanish', 'CL': 'Spanish', 'EC': 'Spanish', 'CO': 'Spanish', 'UY': 'Spanish', 'PA': 'Spanish', 'CR': 'Spanish', 'CU': 'Spanish', 'FR': 'French', 'BE': 'Dutch', 'CH': 'German', 'DE': 'German', 'AT': 'German', 'IT': 'Italian', 'JP': 'Japanese', 'KR': 'Korean', 'CN': 'Chinese', 'TW': 'Chinese', 'HK': 'Chinese', 'RU': 'Russian', 'NL': 'Dutch', 'SE': 'Swedish', 'NO': 'Norwegian', 'DK': 'Danish', 'FI': 'Finnish', 'PL': 'Polish', 'CZ': 'Czech', 'GR': 'Greek', 'HU': 'Hungarian', 'RO': 'Romanian', 'TR': 'Turkish', 'TH': 'Thai', 'ID': 'Indonesian'\n",
    "}\n",
    "\n",
    "additional_language_matches = []\n",
    "unmatched_ads_with_no_mods = sorted_ad_df[~sorted_ad_df['ad_id'].isin(combined_matched_df['ad_id'])]\n",
    "for _, ad_row in unmatched_ads_with_no_mods.iterrows():\n",
    "    country = ad_row['delivery_country']\n",
    "    language = country_to_language.get(country, None)\n",
    "    if language:\n",
    "        matching_countries = [f'\"{k}\"' for k, v in country_to_language.items() if v == language and f'\"{k}\"' in sorted_mod_df.columns]\n",
    "        if matching_countries:\n",
    "            suitable_mod = sorted_mod_df[sorted_mod_df[matching_countries].sum(axis=1) > 0].head(1)\n",
    "            if not suitable_mod.empty:\n",
    "                additional_language_matches.append((ad_row['ad_id'], suitable_mod['moderator'].iloc[0]))\n",
    "additional_language_matched_df = pd.DataFrame(additional_language_matches, columns=['ad_id', 'moderator'])\n",
    "final_matched_df = pd.concat([combined_matched_df, additional_language_matched_df])\n",
    "\n",
    "\n",
    "final_matched_df.to_excel(\"final_matched_pairs.xlsx\", index=False)"
   ]
  }
 ],
 "metadata": {
  "kernelspec": {
   "display_name": "ipykernel_py3",
   "language": "python",
   "name": "python3"
  },
  "language_info": {
   "codemirror_mode": {
    "name": "ipython",
    "version": 3
   },
   "file_extension": ".py",
   "mimetype": "text/x-python",
   "name": "python",
   "nbconvert_exporter": "python",
   "pygments_lexer": "ipython3",
   "version": "3.11.0"
  },
  "orig_nbformat": 4
 },
 "nbformat": 4,
 "nbformat_minor": 2
}
