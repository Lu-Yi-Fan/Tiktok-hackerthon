{
 "cells": [
  {
   "cell_type": "code",
   "execution_count": 34,
   "metadata": {},
   "outputs": [],
   "source": [
    "import pandas as pd\n",
    "\n",
    "ads_dimension = pd.read_excel(\"ad_ranking_raw_data.xlsx\",sheet_name='ads dimension (dim table)',header=1)\n",
    "mod_dim = pd.read_excel(\"ad_ranking_raw_data.xlsx\",sheet_name='moderator dimension (dim table)',header=0)\n",
    "\n",
    "#test\n"
   ]
  },
  {
   "cell_type": "code",
   "execution_count": 35,
   "metadata": {},
   "outputs": [
    {
     "name": "stdout",
     "output_type": "stream",
     "text": [
      " \"queue_market\" : 21155\n",
      " \"punish_num\" : 38286\n",
      " \"ad_revenue\" : 10771\n",
      " \"start_time\" : 6675\n"
     ]
    }
   ],
   "source": [
    "ads_dimension.head()\n",
    "# finding the number of null/blank values for all columns in ads_dimension\n",
    "for col in ads_dimension.columns:\n",
    "    if ads_dimension[col].isna().sum() > 0:\n",
    "        print(f' \"{col}\" : {ads_dimension[col].isna().sum()}')\n",
    "    else:\n",
    "        continue\n"
   ]
  },
  {
   "cell_type": "code",
   "execution_count": 40,
   "metadata": {},
   "outputs": [
    {
     "name": "stdout",
     "output_type": "stream",
     "text": [
      "2000-01-01    38286\n",
      "Name: latest_punish_begin_date, dtype: int64\n",
      "0.0     38286\n",
      "1.0      2194\n",
      "2.0       163\n",
      "4.0        14\n",
      "3.0        13\n",
      "16.0        5\n",
      "12.0        2\n",
      "5.0         2\n",
      "Name: punish_num, dtype: int64\n"
     ]
    }
   ],
   "source": [
    "# to find the distribution of latest_punish_begin_date for blank punish_num rows\n",
    "condition = ads_dimension['punish_num'].isna()\n",
    "filtered_df = ads_dimension[condition]\n",
    "filtered_df.head()\n",
    "\n",
    "unique_countss = filtered_df['latest_punish_begin_date'].value_counts()\n",
    "print(unique_countss)\n",
    "\n",
    "# all latest_punish_begin_date = 2000-01-01 if punish_num is blank, so we replace the blank with a 0\n",
    "ads_dimension['punish_num'].fillna(0, inplace=True)\n",
    "unique_counts = ads_dimension['punish_num'].value_counts()\n",
    "print(unique_counts)"
   ]
  },
  {
   "cell_type": "code",
   "execution_count": 45,
   "metadata": {},
   "outputs": [
    {
     "data": {
      "text/html": [
       "<div>\n",
       "<style scoped>\n",
       "    .dataframe tbody tr th:only-of-type {\n",
       "        vertical-align: middle;\n",
       "    }\n",
       "\n",
       "    .dataframe tbody tr th {\n",
       "        vertical-align: top;\n",
       "    }\n",
       "\n",
       "    .dataframe thead th {\n",
       "        text-align: right;\n",
       "    }\n",
       "</style>\n",
       "<table border=\"1\" class=\"dataframe\">\n",
       "  <thead>\n",
       "    <tr style=\"text-align: right;\">\n",
       "      <th></th>\n",
       "      <th>p_date</th>\n",
       "      <th>ad_id</th>\n",
       "      <th>delivery_country</th>\n",
       "      <th>punish_num</th>\n",
       "      <th>latest_punish_begin_date</th>\n",
       "      <th>ad_revenue</th>\n",
       "      <th>avg_ad_revenue</th>\n",
       "      <th>start_time</th>\n",
       "      <th>baseline_st</th>\n",
       "      <th>product_line</th>\n",
       "      <th>task_type_en</th>\n",
       "    </tr>\n",
       "  </thead>\n",
       "  <tbody>\n",
       "    <tr>\n",
       "      <th>0</th>\n",
       "      <td>20230807</td>\n",
       "      <td>1747578422390810</td>\n",
       "      <td>US</td>\n",
       "      <td>1.0</td>\n",
       "      <td>2023-07-24</td>\n",
       "      <td>5132.1700</td>\n",
       "      <td>4795.250</td>\n",
       "      <td>2022-10-24 14:36:00</td>\n",
       "      <td>1.78</td>\n",
       "      <td>Auction Ads</td>\n",
       "      <td>auction_relation</td>\n",
       "    </tr>\n",
       "    <tr>\n",
       "      <th>1</th>\n",
       "      <td>20230807</td>\n",
       "      <td>1758543228094480</td>\n",
       "      <td>SA</td>\n",
       "      <td>1.0</td>\n",
       "      <td>2023-06-14</td>\n",
       "      <td>1976.2500</td>\n",
       "      <td>1063.767</td>\n",
       "      <td>2023-02-22 15:50:00</td>\n",
       "      <td>1.67</td>\n",
       "      <td>RIE</td>\n",
       "      <td>Ad Group Recall (Merged)</td>\n",
       "    </tr>\n",
       "    <tr>\n",
       "      <th>2</th>\n",
       "      <td>20230807</td>\n",
       "      <td>1738303151826990</td>\n",
       "      <td>AU</td>\n",
       "      <td>2.0</td>\n",
       "      <td>2023-07-24</td>\n",
       "      <td>1.7355</td>\n",
       "      <td>5.365</td>\n",
       "      <td>2022-07-14 05:00:00</td>\n",
       "      <td>1.84</td>\n",
       "      <td>Auction Ads</td>\n",
       "      <td>auction_relation</td>\n",
       "    </tr>\n",
       "    <tr>\n",
       "      <th>3</th>\n",
       "      <td>20230807</td>\n",
       "      <td>1738303920938010</td>\n",
       "      <td>NZ</td>\n",
       "      <td>2.0</td>\n",
       "      <td>2023-07-24</td>\n",
       "      <td>NaN</td>\n",
       "      <td>5.365</td>\n",
       "      <td>2022-07-14 05:16:00</td>\n",
       "      <td>1.58</td>\n",
       "      <td>Auction Ads</td>\n",
       "      <td>auction_relation</td>\n",
       "    </tr>\n",
       "    <tr>\n",
       "      <th>4</th>\n",
       "      <td>20230807</td>\n",
       "      <td>1738304016410620</td>\n",
       "      <td>NZ</td>\n",
       "      <td>2.0</td>\n",
       "      <td>2023-07-24</td>\n",
       "      <td>1.5250</td>\n",
       "      <td>5.365</td>\n",
       "      <td>2022-07-14 05:17:00</td>\n",
       "      <td>1.58</td>\n",
       "      <td>Auction Ads</td>\n",
       "      <td>auction_relation</td>\n",
       "    </tr>\n",
       "  </tbody>\n",
       "</table>\n",
       "</div>"
      ],
      "text/plain": [
       "     p_date             ad_id delivery_country  punish_num  \\\n",
       "0  20230807  1747578422390810               US         1.0   \n",
       "1  20230807  1758543228094480               SA         1.0   \n",
       "2  20230807  1738303151826990               AU         2.0   \n",
       "3  20230807  1738303920938010               NZ         2.0   \n",
       "4  20230807  1738304016410620               NZ         2.0   \n",
       "\n",
       "  latest_punish_begin_date  ad_revenue  avg_ad_revenue          start_time  \\\n",
       "0               2023-07-24   5132.1700        4795.250 2022-10-24 14:36:00   \n",
       "1               2023-06-14   1976.2500        1063.767 2023-02-22 15:50:00   \n",
       "2               2023-07-24      1.7355           5.365 2022-07-14 05:00:00   \n",
       "3               2023-07-24         NaN           5.365 2022-07-14 05:16:00   \n",
       "4               2023-07-24      1.5250           5.365 2022-07-14 05:17:00   \n",
       "\n",
       "   baseline_st product_line              task_type_en  \n",
       "0         1.78  Auction Ads          auction_relation  \n",
       "1         1.67          RIE  Ad Group Recall (Merged)  \n",
       "2         1.84  Auction Ads          auction_relation  \n",
       "3         1.58  Auction Ads          auction_relation  \n",
       "4         1.58  Auction Ads          auction_relation  "
      ]
     },
     "execution_count": 45,
     "metadata": {},
     "output_type": "execute_result"
    }
   ],
   "source": [
    "# (insert explanation on why we drop queue market)\n",
    "ads_dimension = ads_dimension.drop('queue_market', axis=1)\n",
    "ads_dimension.head()"
   ]
  },
  {
   "cell_type": "code",
   "execution_count": 64,
   "metadata": {},
   "outputs": [
    {
     "name": "stdout",
     "output_type": "stream",
     "text": [
      "1115\n",
      "         p_date             ad_id delivery_country  punish_num  \\\n",
      "0      20230807  1747578422390810               US         1.0   \n",
      "1      20230807  1758543228094480               SA         1.0   \n",
      "2      20230807  1738303151826990               AU         2.0   \n",
      "3      20230807  1738303920938010               NZ         2.0   \n",
      "4      20230807  1738304016410620               NZ         2.0   \n",
      "...         ...               ...              ...         ...   \n",
      "40673  20230807  1773517805189120               TR         0.0   \n",
      "40674  20230807  1773472206047230               VN         0.0   \n",
      "40675  20230807  1773607712030720               BR         0.0   \n",
      "40676  20230807  1773589699308540               BE         0.0   \n",
      "40678  20230807  1773608138524670               BR         0.0   \n",
      "\n",
      "      latest_punish_begin_date  ad_revenue  avg_ad_revenue  \\\n",
      "0                   2023-07-24   5132.1700        4795.250   \n",
      "1                   2023-06-14   1976.2500        1063.767   \n",
      "2                   2023-07-24      1.7355           5.365   \n",
      "3                   2023-07-24         NaN           5.365   \n",
      "4                   2023-07-24      1.5250           5.365   \n",
      "...                        ...         ...             ...   \n",
      "40673               2000-01-01         NaN           0.000   \n",
      "40674               2000-01-01         NaN           0.000   \n",
      "40675               2000-01-01         NaN           0.000   \n",
      "40676               2000-01-01         NaN           0.000   \n",
      "40678               2000-01-01         NaN           0.000   \n",
      "\n",
      "               start_time  baseline_st     product_line  \\\n",
      "0     2022-10-24 14:36:00         1.78      Auction Ads   \n",
      "1     2023-02-22 15:50:00         1.67              RIE   \n",
      "2     2022-07-14 05:00:00         1.84      Auction Ads   \n",
      "3     2022-07-14 05:16:00         1.58      Auction Ads   \n",
      "4     2022-07-14 05:17:00         1.58      Auction Ads   \n",
      "...                   ...          ...              ...   \n",
      "40673                 NaT         0.54  Non-Auction Ads   \n",
      "40674                 NaT         0.54  Non-Auction Ads   \n",
      "40675                 NaT         0.54  Non-Auction Ads   \n",
      "40676                 NaT         0.54  Non-Auction Ads   \n",
      "40678                 NaT         0.54  Non-Auction Ads   \n",
      "\n",
      "                   task_type_en  \n",
      "0              auction_relation  \n",
      "1      Ad Group Recall (Merged)  \n",
      "2              auction_relation  \n",
      "3              auction_relation  \n",
      "4              auction_relation  \n",
      "...                         ...  \n",
      "40673                   Promote  \n",
      "40674                   Promote  \n",
      "40675                   Promote  \n",
      "40676                   Promote  \n",
      "40678                   Promote  \n",
      "\n",
      "[39564 rows x 11 columns]\n"
     ]
    },
    {
     "data": {
      "text/plain": [
       "39564"
      ]
     },
     "execution_count": 64,
     "metadata": {},
     "output_type": "execute_result"
    }
   ],
   "source": [
    "# deleted all rows that are an exact duplicate(all columns same) of other rows.\n",
    "len(ads_dimension)\n",
    "\n",
    "duplicates = ads_dimension.duplicated().sum()\n",
    "print(duplicates)\n",
    "\n",
    "ads_dimension_no_duplicates = ads_dimension.drop_duplicates()\n",
    "print(ads_dimension_no_duplicates)\n",
    "len(ads_dimension_no_duplicates)"
   ]
  },
  {
   "cell_type": "code",
   "execution_count": 65,
   "metadata": {},
   "outputs": [
    {
     "name": "stdout",
     "output_type": "stream",
     "text": [
      " \"ad_revenue\" : 10495\n",
      " \"start_time\" : 6600\n"
     ]
    }
   ],
   "source": [
    "for col in ads_dimension_no_duplicates.columns:\n",
    "    if ads_dimension_no_duplicates[col].isna().sum() > 0:\n",
    "        print(f' \"{col}\" : {ads_dimension_no_duplicates[col].isna().sum()}')\n",
    "    else:\n",
    "        continue\n",
    "\n",
    "null_rows = ads_dimension_no_duplicates[ads_dimension_no_duplicates[['start_time', 'ad_revenue']].isnull().all(axis=1)]\n",
    "len(null_rows)"
   ]
  },
  {
   "cell_type": "markdown",
   "metadata": {},
   "source": [
    "## Moderator Dimension"
   ]
  },
  {
   "cell_type": "code",
   "execution_count": 88,
   "metadata": {},
   "outputs": [
    {
     "name": "stdout",
     "output_type": "stream",
     "text": [
      " \"Productivity\" : 129\n",
      " \"Utilisation %\" : 129\n",
      "             moderator                                             market  \\\n",
      "0     1689841547143170  [\"SA\", \"OM\", \"BH\", \"QA\", \"JO\", \"IQ\", \"KW\", \"EG...   \n",
      "265   1694555598292994                                             [\"NL\"]   \n",
      "412   1761892264652818                                             [\"DE\"]   \n",
      "510            1005827                                             [\"BR\"]   \n",
      "529            2796851                                             [\"KZ\"]   \n",
      "892            3778633                                             [\"TR\"]   \n",
      "916            5581253                                             [\"DK\"]   \n",
      "943            9699751                                             [\"ID\"]   \n",
      "1283           1822136                                       [\"GB\", \"IE\"]   \n",
      "1331           3297271                                          [\"OTHER\"]   \n",
      "1393  1695027913818113                                             [\"IT\"]   \n",
      "\n",
      "      Productivity  Utilisation %  handling time             accuracy   \n",
      "0       286.217674       0.812403         123549                   -    \n",
      "265      46.386087       0.196601          29984                   -    \n",
      "412      31.433043       0.077645          48106                   -    \n",
      "510      76.587500       0.346677         107285                   -    \n",
      "529      26.285000       0.634344          36862                   -    \n",
      "892     107.352500       0.329443          42022                   -    \n",
      "916      92.835000       0.254167          14774                   -    \n",
      "943     194.980000       0.716911          88854                   -    \n",
      "1283    154.842500       0.745224          90290                   -    \n",
      "1331           NaN            NaN              0                   -    \n",
      "1393    147.020000       0.335302          25186                   -    \n"
     ]
    }
   ],
   "source": [
    "# find number of null values in each column\n",
    "\n",
    "for col in mod_dim.columns:\n",
    "    if mod_dim[col].isna().sum() > 0:\n",
    "        print(f' \"{col}\" : {mod_dim[col].isna().sum()}')\n",
    "    else:\n",
    "        continue\n",
    "\n",
    "# accuracy colum contains \"-\" values\n",
    "non_numeric_values = mod_dim[pd.to_numeric(mod_dim[\" accuracy \"], errors='coerce').isna()]\n",
    "len(non_numeric_values)\n",
    "\n",
    "print(non_numeric_values)"
   ]
  },
  {
   "cell_type": "code",
   "execution_count": 90,
   "metadata": {},
   "outputs": [
    {
     "data": {
      "text/plain": [
       "1403"
      ]
     },
     "execution_count": 90,
     "metadata": {},
     "output_type": "execute_result"
    }
   ],
   "source": [
    "# remove rows that have null values for productivity and utilisation, and \"-\" values for accuracy\n",
    "column_name = ' accuracy '\n",
    "numeric_mask = pd.to_numeric(mod_dim[column_name], errors='coerce').notna()\n",
    "cleaned_mod_dim = mod_dim[numeric_mask]\n",
    "\n",
    "len(cleaned_mod_dim)\n",
    "\n",
    "columns_to_check = ['Productivity', 'Utilisation %']\n",
    "\n",
    "cleaned_mod_dim = cleaned_mod_dim.dropna(subset=columns_to_check, how='all')\n",
    "\n",
    "len(cleaned_mod_dim)\n"
   ]
  },
  {
   "cell_type": "code",
   "execution_count": 74,
   "metadata": {},
   "outputs": [
    {
     "name": "stdout",
     "output_type": "stream",
     "text": [
      "Index(['moderator', 'market', 'Productivity', 'Utilisation %', 'handling time',\n",
      "       ' accuracy '],\n",
      "      dtype='object')\n"
     ]
    }
   ],
   "source": [
    "print(mod_dim.columns)"
   ]
  }
 ],
 "metadata": {
  "kernelspec": {
   "display_name": "Python 3",
   "language": "python",
   "name": "python3"
  },
  "language_info": {
   "codemirror_mode": {
    "name": "ipython",
    "version": 3
   },
   "file_extension": ".py",
   "mimetype": "text/x-python",
   "name": "python",
   "nbconvert_exporter": "python",
   "pygments_lexer": "ipython3",
   "version": "3.9.13"
  },
  "orig_nbformat": 4
 },
 "nbformat": 4,
 "nbformat_minor": 2
}
