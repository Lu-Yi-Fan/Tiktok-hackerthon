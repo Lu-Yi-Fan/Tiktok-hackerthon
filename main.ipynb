{
 "cells": [
  {
   "cell_type": "code",
   "execution_count": 2,
   "metadata": {},
   "outputs": [],
   "source": [
    "import pandas as pd\n",
    "import matplotlib.pyplot as plt\n",
    "import seaborn as sns\n",
    "import numpy as np\n",
    "\n",
    "ads_dimension = pd.read_excel(\"Dataset.xlsx\",sheet_name='ads dimension (dim table)',header=1)\n",
    "mod_dim = pd.read_excel(\"Dataset.xlsx\",sheet_name='moderator dimension (dim table)',header=0)\n",
    "\n",
    "#test\n"
   ]
  },
  {
   "cell_type": "markdown",
   "metadata": {},
   "source": [
    "### Check Data of Ads Dimension\n"
   ]
  },
  {
   "cell_type": "code",
   "execution_count": 3,
   "metadata": {},
   "outputs": [
    {
     "name": "stdout",
     "output_type": "stream",
     "text": [
      "(40679, 12)\n"
     ]
    }
   ],
   "source": [
    "print(ads_dimension.shape)\n"
   ]
  },
  {
   "cell_type": "markdown",
   "metadata": {},
   "source": [
    "# Ads Dimension\n"
   ]
  },
  {
   "cell_type": "markdown",
   "metadata": {},
   "source": [
    "### Cleaning Punish_Num Column"
   ]
  },
  {
   "cell_type": "code",
   "execution_count": 4,
   "metadata": {},
   "outputs": [
    {
     "name": "stdout",
     "output_type": "stream",
     "text": [
      "2000-01-01    38286\n",
      "Name: latest_punish_begin_date, dtype: int64\n",
      "0.0     38286\n",
      "1.0      2194\n",
      "2.0       163\n",
      "4.0        14\n",
      "3.0        13\n",
      "16.0        5\n",
      "12.0        2\n",
      "5.0         2\n",
      "Name: punish_num, dtype: int64\n"
     ]
    }
   ],
   "source": [
    "# to find the distribution of latest_punish_begin_date for blank punish_num rows\n",
    "condition = ads_dimension['punish_num'].isna()\n",
    "filtered_df = ads_dimension[condition]\n",
    "filtered_df.head()\n",
    "\n",
    "unique_countss = filtered_df['latest_punish_begin_date'].value_counts()\n",
    "print(unique_countss)\n",
    "\n",
    "# all latest_punish_begin_date = 2000-01-01 if punish_num is blank, so we replace the blank with a 0\n",
    "ads_dimension['punish_num'].fillna(0, inplace=True)\n",
    "unique_counts = ads_dimension['punish_num'].value_counts()\n",
    "print(unique_counts)"
   ]
  },
  {
   "cell_type": "markdown",
   "metadata": {},
   "source": [
    "### Removing Duplicate Rows"
   ]
  },
  {
   "cell_type": "code",
   "execution_count": 5,
   "metadata": {},
   "outputs": [
    {
     "data": {
      "text/html": [
       "<div>\n",
       "<style scoped>\n",
       "    .dataframe tbody tr th:only-of-type {\n",
       "        vertical-align: middle;\n",
       "    }\n",
       "\n",
       "    .dataframe tbody tr th {\n",
       "        vertical-align: top;\n",
       "    }\n",
       "\n",
       "    .dataframe thead th {\n",
       "        text-align: right;\n",
       "    }\n",
       "</style>\n",
       "<table border=\"1\" class=\"dataframe\">\n",
       "  <thead>\n",
       "    <tr style=\"text-align: right;\">\n",
       "      <th></th>\n",
       "      <th>p_date</th>\n",
       "      <th>ad_id</th>\n",
       "      <th>delivery_country</th>\n",
       "      <th>queue_market</th>\n",
       "      <th>punish_num</th>\n",
       "      <th>latest_punish_begin_date</th>\n",
       "      <th>ad_revenue</th>\n",
       "      <th>avg_ad_revenue</th>\n",
       "      <th>start_time</th>\n",
       "      <th>baseline_st</th>\n",
       "      <th>product_line</th>\n",
       "      <th>task_type_en</th>\n",
       "    </tr>\n",
       "  </thead>\n",
       "  <tbody>\n",
       "    <tr>\n",
       "      <th>119</th>\n",
       "      <td>20230807</td>\n",
       "      <td>1767389794976760</td>\n",
       "      <td>ID</td>\n",
       "      <td>ID</td>\n",
       "      <td>1.0</td>\n",
       "      <td>2023-05-10</td>\n",
       "      <td>7.7968</td>\n",
       "      <td>10.8649</td>\n",
       "      <td>2023-05-31 06:12:00</td>\n",
       "      <td>1.80</td>\n",
       "      <td>Auction Ads</td>\n",
       "      <td>auction_relation</td>\n",
       "    </tr>\n",
       "    <tr>\n",
       "      <th>141</th>\n",
       "      <td>20230807</td>\n",
       "      <td>1770618315063340</td>\n",
       "      <td>CA</td>\n",
       "      <td>USCA</td>\n",
       "      <td>1.0</td>\n",
       "      <td>2023-06-29</td>\n",
       "      <td>55.3400</td>\n",
       "      <td>51.0029</td>\n",
       "      <td>2023-07-05 22:41:00</td>\n",
       "      <td>1.78</td>\n",
       "      <td>Auction Ads</td>\n",
       "      <td>auction_relation</td>\n",
       "    </tr>\n",
       "    <tr>\n",
       "      <th>147</th>\n",
       "      <td>20230807</td>\n",
       "      <td>1770774645761070</td>\n",
       "      <td>US</td>\n",
       "      <td>USCA</td>\n",
       "      <td>1.0</td>\n",
       "      <td>2023-06-29</td>\n",
       "      <td>0.3800</td>\n",
       "      <td>51.0029</td>\n",
       "      <td>2023-07-07 16:04:00</td>\n",
       "      <td>1.78</td>\n",
       "      <td>Auction Ads</td>\n",
       "      <td>auction_relation</td>\n",
       "    </tr>\n",
       "    <tr>\n",
       "      <th>174</th>\n",
       "      <td>20230807</td>\n",
       "      <td>1770837186637870</td>\n",
       "      <td>ID</td>\n",
       "      <td>ID</td>\n",
       "      <td>1.0</td>\n",
       "      <td>2023-05-16</td>\n",
       "      <td>12.8547</td>\n",
       "      <td>8.2306</td>\n",
       "      <td>2023-07-08 07:35:00</td>\n",
       "      <td>1.80</td>\n",
       "      <td>Auction Ads</td>\n",
       "      <td>auction_relation</td>\n",
       "    </tr>\n",
       "    <tr>\n",
       "      <th>178</th>\n",
       "      <td>20230807</td>\n",
       "      <td>1771829420441650</td>\n",
       "      <td>MY</td>\n",
       "      <td>MY</td>\n",
       "      <td>1.0</td>\n",
       "      <td>2023-08-03</td>\n",
       "      <td>25.1724</td>\n",
       "      <td>18.4393</td>\n",
       "      <td>2023-07-19 06:29:00</td>\n",
       "      <td>2.31</td>\n",
       "      <td>Auction Ads</td>\n",
       "      <td>auction_relation</td>\n",
       "    </tr>\n",
       "    <tr>\n",
       "      <th>...</th>\n",
       "      <td>...</td>\n",
       "      <td>...</td>\n",
       "      <td>...</td>\n",
       "      <td>...</td>\n",
       "      <td>...</td>\n",
       "      <td>...</td>\n",
       "      <td>...</td>\n",
       "      <td>...</td>\n",
       "      <td>...</td>\n",
       "      <td>...</td>\n",
       "      <td>...</td>\n",
       "      <td>...</td>\n",
       "    </tr>\n",
       "    <tr>\n",
       "      <th>40324</th>\n",
       "      <td>20230807</td>\n",
       "      <td>1773576487869440</td>\n",
       "      <td>TR</td>\n",
       "      <td>NaN</td>\n",
       "      <td>0.0</td>\n",
       "      <td>2000-01-01</td>\n",
       "      <td>NaN</td>\n",
       "      <td>0.1207</td>\n",
       "      <td>NaT</td>\n",
       "      <td>0.54</td>\n",
       "      <td>Non-Auction Ads</td>\n",
       "      <td>Promote</td>\n",
       "    </tr>\n",
       "    <tr>\n",
       "      <th>40377</th>\n",
       "      <td>20230807</td>\n",
       "      <td>1773566740854850</td>\n",
       "      <td>TR</td>\n",
       "      <td>NaN</td>\n",
       "      <td>0.0</td>\n",
       "      <td>2000-01-01</td>\n",
       "      <td>NaN</td>\n",
       "      <td>0.1032</td>\n",
       "      <td>NaT</td>\n",
       "      <td>0.54</td>\n",
       "      <td>Non-Auction Ads</td>\n",
       "      <td>Promote</td>\n",
       "    </tr>\n",
       "    <tr>\n",
       "      <th>40624</th>\n",
       "      <td>20230807</td>\n",
       "      <td>1773596777307170</td>\n",
       "      <td>HU</td>\n",
       "      <td>NaN</td>\n",
       "      <td>0.0</td>\n",
       "      <td>2000-01-01</td>\n",
       "      <td>NaN</td>\n",
       "      <td>0.0000</td>\n",
       "      <td>NaT</td>\n",
       "      <td>0.54</td>\n",
       "      <td>Non-Auction Ads</td>\n",
       "      <td>Promote</td>\n",
       "    </tr>\n",
       "    <tr>\n",
       "      <th>40626</th>\n",
       "      <td>20230807</td>\n",
       "      <td>1773601756737540</td>\n",
       "      <td>PL</td>\n",
       "      <td>NaN</td>\n",
       "      <td>0.0</td>\n",
       "      <td>2000-01-01</td>\n",
       "      <td>NaN</td>\n",
       "      <td>0.0000</td>\n",
       "      <td>NaT</td>\n",
       "      <td>0.54</td>\n",
       "      <td>Non-Auction Ads</td>\n",
       "      <td>Promote</td>\n",
       "    </tr>\n",
       "    <tr>\n",
       "      <th>40677</th>\n",
       "      <td>20230807</td>\n",
       "      <td>1773530511220730</td>\n",
       "      <td>TR</td>\n",
       "      <td>NaN</td>\n",
       "      <td>0.0</td>\n",
       "      <td>2000-01-01</td>\n",
       "      <td>NaN</td>\n",
       "      <td>0.0000</td>\n",
       "      <td>NaT</td>\n",
       "      <td>0.54</td>\n",
       "      <td>Non-Auction Ads</td>\n",
       "      <td>Promote</td>\n",
       "    </tr>\n",
       "  </tbody>\n",
       "</table>\n",
       "<p>1115 rows × 12 columns</p>\n",
       "</div>"
      ],
      "text/plain": [
       "         p_date             ad_id delivery_country queue_market  punish_num  \\\n",
       "119    20230807  1767389794976760               ID           ID         1.0   \n",
       "141    20230807  1770618315063340               CA         USCA         1.0   \n",
       "147    20230807  1770774645761070               US         USCA         1.0   \n",
       "174    20230807  1770837186637870               ID           ID         1.0   \n",
       "178    20230807  1771829420441650               MY           MY         1.0   \n",
       "...         ...               ...              ...          ...         ...   \n",
       "40324  20230807  1773576487869440               TR          NaN         0.0   \n",
       "40377  20230807  1773566740854850               TR          NaN         0.0   \n",
       "40624  20230807  1773596777307170               HU          NaN         0.0   \n",
       "40626  20230807  1773601756737540               PL          NaN         0.0   \n",
       "40677  20230807  1773530511220730               TR          NaN         0.0   \n",
       "\n",
       "      latest_punish_begin_date  ad_revenue  avg_ad_revenue  \\\n",
       "119                 2023-05-10      7.7968         10.8649   \n",
       "141                 2023-06-29     55.3400         51.0029   \n",
       "147                 2023-06-29      0.3800         51.0029   \n",
       "174                 2023-05-16     12.8547          8.2306   \n",
       "178                 2023-08-03     25.1724         18.4393   \n",
       "...                        ...         ...             ...   \n",
       "40324               2000-01-01         NaN          0.1207   \n",
       "40377               2000-01-01         NaN          0.1032   \n",
       "40624               2000-01-01         NaN          0.0000   \n",
       "40626               2000-01-01         NaN          0.0000   \n",
       "40677               2000-01-01         NaN          0.0000   \n",
       "\n",
       "               start_time  baseline_st     product_line      task_type_en  \n",
       "119   2023-05-31 06:12:00         1.80      Auction Ads  auction_relation  \n",
       "141   2023-07-05 22:41:00         1.78      Auction Ads  auction_relation  \n",
       "147   2023-07-07 16:04:00         1.78      Auction Ads  auction_relation  \n",
       "174   2023-07-08 07:35:00         1.80      Auction Ads  auction_relation  \n",
       "178   2023-07-19 06:29:00         2.31      Auction Ads  auction_relation  \n",
       "...                   ...          ...              ...               ...  \n",
       "40324                 NaT         0.54  Non-Auction Ads           Promote  \n",
       "40377                 NaT         0.54  Non-Auction Ads           Promote  \n",
       "40624                 NaT         0.54  Non-Auction Ads           Promote  \n",
       "40626                 NaT         0.54  Non-Auction Ads           Promote  \n",
       "40677                 NaT         0.54  Non-Auction Ads           Promote  \n",
       "\n",
       "[1115 rows x 12 columns]"
      ]
     },
     "execution_count": 5,
     "metadata": {},
     "output_type": "execute_result"
    }
   ],
   "source": [
    "\n",
    "\n",
    "\n",
    "# deleted all rows that are an exact duplicate(all columns same) of other rows.\n",
    "len(ads_dimension)\n",
    "\n",
    "duplicates = ads_dimension.duplicated()\n",
    "# duplicates = ads_dimension.duplicated().sum()\n",
    "duplicate_rows = ads_dimension[duplicates]\n",
    "duplicate_rows\n"
   ]
  },
  {
   "cell_type": "markdown",
   "metadata": {},
   "source": [
    "##### We have realised that there are quite a significant number of rows which are duplicated (all columns have the same data), and thus we proceed to remove these rows. \n"
   ]
  },
  {
   "cell_type": "code",
   "execution_count": 6,
   "metadata": {},
   "outputs": [
    {
     "name": "stdout",
     "output_type": "stream",
     "text": [
      "         p_date             ad_id delivery_country queue_market  punish_num  \\\n",
      "0      20230807  1747578422390810               US         USCA         1.0   \n",
      "1      20230807  1758543228094480               SA         MENA         1.0   \n",
      "2      20230807  1738303151826990               AU           AU         2.0   \n",
      "3      20230807  1738303920938010               NZ           NZ         2.0   \n",
      "4      20230807  1738304016410620               NZ           NZ         2.0   \n",
      "...         ...               ...              ...          ...         ...   \n",
      "40673  20230807  1773517805189120               TR          NaN         0.0   \n",
      "40674  20230807  1773472206047230               VN          NaN         0.0   \n",
      "40675  20230807  1773607712030720               BR          NaN         0.0   \n",
      "40676  20230807  1773589699308540               BE          NaN         0.0   \n",
      "40678  20230807  1773608138524670               BR          NaN         0.0   \n",
      "\n",
      "      latest_punish_begin_date  ad_revenue  avg_ad_revenue  \\\n",
      "0                   2023-07-24   5132.1700        4795.250   \n",
      "1                   2023-06-14   1976.2500        1063.767   \n",
      "2                   2023-07-24      1.7355           5.365   \n",
      "3                   2023-07-24         NaN           5.365   \n",
      "4                   2023-07-24      1.5250           5.365   \n",
      "...                        ...         ...             ...   \n",
      "40673               2000-01-01         NaN           0.000   \n",
      "40674               2000-01-01         NaN           0.000   \n",
      "40675               2000-01-01         NaN           0.000   \n",
      "40676               2000-01-01         NaN           0.000   \n",
      "40678               2000-01-01         NaN           0.000   \n",
      "\n",
      "               start_time  baseline_st     product_line  \\\n",
      "0     2022-10-24 14:36:00         1.78      Auction Ads   \n",
      "1     2023-02-22 15:50:00         1.67              RIE   \n",
      "2     2022-07-14 05:00:00         1.84      Auction Ads   \n",
      "3     2022-07-14 05:16:00         1.58      Auction Ads   \n",
      "4     2022-07-14 05:17:00         1.58      Auction Ads   \n",
      "...                   ...          ...              ...   \n",
      "40673                 NaT         0.54  Non-Auction Ads   \n",
      "40674                 NaT         0.54  Non-Auction Ads   \n",
      "40675                 NaT         0.54  Non-Auction Ads   \n",
      "40676                 NaT         0.54  Non-Auction Ads   \n",
      "40678                 NaT         0.54  Non-Auction Ads   \n",
      "\n",
      "                   task_type_en  \n",
      "0              auction_relation  \n",
      "1      Ad Group Recall (Merged)  \n",
      "2              auction_relation  \n",
      "3              auction_relation  \n",
      "4              auction_relation  \n",
      "...                         ...  \n",
      "40673                   Promote  \n",
      "40674                   Promote  \n",
      "40675                   Promote  \n",
      "40676                   Promote  \n",
      "40678                   Promote  \n",
      "\n",
      "[39564 rows x 12 columns]\n"
     ]
    }
   ],
   "source": [
    "ads_dimension_no_duplicates = ads_dimension.drop_duplicates()\n",
    "print(ads_dimension_no_duplicates)\n",
    "len(ads_dimension_no_duplicates)\n",
    "\n",
    "# ads_dimension_no_duplicates.to_excel('no_dups_df.xlsx', index=False)\n",
    "\n",
    "\n",
    "# rename \n",
    "ads_dim2 = ads_dimension_no_duplicates\n"
   ]
  },
  {
   "cell_type": "markdown",
   "metadata": {},
   "source": [
    "### Check for Null/Missing Values in Columns "
   ]
  },
  {
   "cell_type": "code",
   "execution_count": 7,
   "metadata": {},
   "outputs": [
    {
     "name": "stdout",
     "output_type": "stream",
     "text": [
      " \"queue_market\" : 20959\n",
      " \"ad_revenue\" : 10495\n",
      " \"start_time\" : 6600\n"
     ]
    }
   ],
   "source": [
    "ads_dim2.head()\n",
    "# finding the number of null/blank values for all columns in ads_dimension\n",
    "for col in ads_dim2.columns:\n",
    "    if ads_dim2[col].isna().sum() > 0:\n",
    "        print(f' \"{col}\" : {ads_dim2[col].isna().sum()}')\n",
    "    else:\n",
    "        continue\n"
   ]
  },
  {
   "cell_type": "markdown",
   "metadata": {},
   "source": [
    "### Removing Queue Market Column\n"
   ]
  },
  {
   "cell_type": "code",
   "execution_count": 8,
   "metadata": {},
   "outputs": [
    {
     "data": {
      "text/html": [
       "<div>\n",
       "<style scoped>\n",
       "    .dataframe tbody tr th:only-of-type {\n",
       "        vertical-align: middle;\n",
       "    }\n",
       "\n",
       "    .dataframe tbody tr th {\n",
       "        vertical-align: top;\n",
       "    }\n",
       "\n",
       "    .dataframe thead th {\n",
       "        text-align: right;\n",
       "    }\n",
       "</style>\n",
       "<table border=\"1\" class=\"dataframe\">\n",
       "  <thead>\n",
       "    <tr style=\"text-align: right;\">\n",
       "      <th></th>\n",
       "      <th>p_date</th>\n",
       "      <th>ad_id</th>\n",
       "      <th>delivery_country</th>\n",
       "      <th>punish_num</th>\n",
       "      <th>latest_punish_begin_date</th>\n",
       "      <th>ad_revenue</th>\n",
       "      <th>avg_ad_revenue</th>\n",
       "      <th>start_time</th>\n",
       "      <th>baseline_st</th>\n",
       "      <th>product_line</th>\n",
       "      <th>task_type_en</th>\n",
       "    </tr>\n",
       "  </thead>\n",
       "  <tbody>\n",
       "    <tr>\n",
       "      <th>0</th>\n",
       "      <td>20230807</td>\n",
       "      <td>1747578422390810</td>\n",
       "      <td>US</td>\n",
       "      <td>1.0</td>\n",
       "      <td>2023-07-24</td>\n",
       "      <td>5132.1700</td>\n",
       "      <td>4795.250</td>\n",
       "      <td>2022-10-24 14:36:00</td>\n",
       "      <td>1.78</td>\n",
       "      <td>Auction Ads</td>\n",
       "      <td>auction_relation</td>\n",
       "    </tr>\n",
       "    <tr>\n",
       "      <th>1</th>\n",
       "      <td>20230807</td>\n",
       "      <td>1758543228094480</td>\n",
       "      <td>SA</td>\n",
       "      <td>1.0</td>\n",
       "      <td>2023-06-14</td>\n",
       "      <td>1976.2500</td>\n",
       "      <td>1063.767</td>\n",
       "      <td>2023-02-22 15:50:00</td>\n",
       "      <td>1.67</td>\n",
       "      <td>RIE</td>\n",
       "      <td>Ad Group Recall (Merged)</td>\n",
       "    </tr>\n",
       "    <tr>\n",
       "      <th>2</th>\n",
       "      <td>20230807</td>\n",
       "      <td>1738303151826990</td>\n",
       "      <td>AU</td>\n",
       "      <td>2.0</td>\n",
       "      <td>2023-07-24</td>\n",
       "      <td>1.7355</td>\n",
       "      <td>5.365</td>\n",
       "      <td>2022-07-14 05:00:00</td>\n",
       "      <td>1.84</td>\n",
       "      <td>Auction Ads</td>\n",
       "      <td>auction_relation</td>\n",
       "    </tr>\n",
       "    <tr>\n",
       "      <th>3</th>\n",
       "      <td>20230807</td>\n",
       "      <td>1738303920938010</td>\n",
       "      <td>NZ</td>\n",
       "      <td>2.0</td>\n",
       "      <td>2023-07-24</td>\n",
       "      <td>NaN</td>\n",
       "      <td>5.365</td>\n",
       "      <td>2022-07-14 05:16:00</td>\n",
       "      <td>1.58</td>\n",
       "      <td>Auction Ads</td>\n",
       "      <td>auction_relation</td>\n",
       "    </tr>\n",
       "    <tr>\n",
       "      <th>4</th>\n",
       "      <td>20230807</td>\n",
       "      <td>1738304016410620</td>\n",
       "      <td>NZ</td>\n",
       "      <td>2.0</td>\n",
       "      <td>2023-07-24</td>\n",
       "      <td>1.5250</td>\n",
       "      <td>5.365</td>\n",
       "      <td>2022-07-14 05:17:00</td>\n",
       "      <td>1.58</td>\n",
       "      <td>Auction Ads</td>\n",
       "      <td>auction_relation</td>\n",
       "    </tr>\n",
       "  </tbody>\n",
       "</table>\n",
       "</div>"
      ],
      "text/plain": [
       "     p_date             ad_id delivery_country  punish_num  \\\n",
       "0  20230807  1747578422390810               US         1.0   \n",
       "1  20230807  1758543228094480               SA         1.0   \n",
       "2  20230807  1738303151826990               AU         2.0   \n",
       "3  20230807  1738303920938010               NZ         2.0   \n",
       "4  20230807  1738304016410620               NZ         2.0   \n",
       "\n",
       "  latest_punish_begin_date  ad_revenue  avg_ad_revenue          start_time  \\\n",
       "0               2023-07-24   5132.1700        4795.250 2022-10-24 14:36:00   \n",
       "1               2023-06-14   1976.2500        1063.767 2023-02-22 15:50:00   \n",
       "2               2023-07-24      1.7355           5.365 2022-07-14 05:00:00   \n",
       "3               2023-07-24         NaN           5.365 2022-07-14 05:16:00   \n",
       "4               2023-07-24      1.5250           5.365 2022-07-14 05:17:00   \n",
       "\n",
       "   baseline_st product_line              task_type_en  \n",
       "0         1.78  Auction Ads          auction_relation  \n",
       "1         1.67          RIE  Ad Group Recall (Merged)  \n",
       "2         1.84  Auction Ads          auction_relation  \n",
       "3         1.58  Auction Ads          auction_relation  \n",
       "4         1.58  Auction Ads          auction_relation  "
      ]
     },
     "execution_count": 8,
     "metadata": {},
     "output_type": "execute_result"
    }
   ],
   "source": [
    "# Drop queue_market col as delivery_country is more specific than queue_market\n",
    "ads_dim2 = ads_dim2.drop('queue_market', axis=1)\n",
    "ads_dim2.head()"
   ]
  },
  {
   "cell_type": "code",
   "execution_count": 9,
   "metadata": {},
   "outputs": [
    {
     "data": {
      "text/html": [
       "<div>\n",
       "<style scoped>\n",
       "    .dataframe tbody tr th:only-of-type {\n",
       "        vertical-align: middle;\n",
       "    }\n",
       "\n",
       "    .dataframe tbody tr th {\n",
       "        vertical-align: top;\n",
       "    }\n",
       "\n",
       "    .dataframe thead th {\n",
       "        text-align: right;\n",
       "    }\n",
       "</style>\n",
       "<table border=\"1\" class=\"dataframe\">\n",
       "  <thead>\n",
       "    <tr style=\"text-align: right;\">\n",
       "      <th></th>\n",
       "      <th>ad_id</th>\n",
       "      <th>delivery_country</th>\n",
       "      <th>punish_num</th>\n",
       "      <th>latest_punish_begin_date</th>\n",
       "      <th>ad_revenue</th>\n",
       "      <th>avg_ad_revenue</th>\n",
       "      <th>start_time</th>\n",
       "      <th>baseline_st</th>\n",
       "      <th>product_line</th>\n",
       "      <th>task_type_en</th>\n",
       "    </tr>\n",
       "  </thead>\n",
       "  <tbody>\n",
       "    <tr>\n",
       "      <th>0</th>\n",
       "      <td>1747578422390810</td>\n",
       "      <td>US</td>\n",
       "      <td>1.0</td>\n",
       "      <td>2023-07-24</td>\n",
       "      <td>5132.1700</td>\n",
       "      <td>4795.250</td>\n",
       "      <td>2022-10-24 14:36:00</td>\n",
       "      <td>1.78</td>\n",
       "      <td>Auction Ads</td>\n",
       "      <td>auction_relation</td>\n",
       "    </tr>\n",
       "    <tr>\n",
       "      <th>1</th>\n",
       "      <td>1758543228094480</td>\n",
       "      <td>SA</td>\n",
       "      <td>1.0</td>\n",
       "      <td>2023-06-14</td>\n",
       "      <td>1976.2500</td>\n",
       "      <td>1063.767</td>\n",
       "      <td>2023-02-22 15:50:00</td>\n",
       "      <td>1.67</td>\n",
       "      <td>RIE</td>\n",
       "      <td>Ad Group Recall (Merged)</td>\n",
       "    </tr>\n",
       "    <tr>\n",
       "      <th>2</th>\n",
       "      <td>1738303151826990</td>\n",
       "      <td>AU</td>\n",
       "      <td>2.0</td>\n",
       "      <td>2023-07-24</td>\n",
       "      <td>1.7355</td>\n",
       "      <td>5.365</td>\n",
       "      <td>2022-07-14 05:00:00</td>\n",
       "      <td>1.84</td>\n",
       "      <td>Auction Ads</td>\n",
       "      <td>auction_relation</td>\n",
       "    </tr>\n",
       "    <tr>\n",
       "      <th>3</th>\n",
       "      <td>1738303920938010</td>\n",
       "      <td>NZ</td>\n",
       "      <td>2.0</td>\n",
       "      <td>2023-07-24</td>\n",
       "      <td>NaN</td>\n",
       "      <td>5.365</td>\n",
       "      <td>2022-07-14 05:16:00</td>\n",
       "      <td>1.58</td>\n",
       "      <td>Auction Ads</td>\n",
       "      <td>auction_relation</td>\n",
       "    </tr>\n",
       "    <tr>\n",
       "      <th>4</th>\n",
       "      <td>1738304016410620</td>\n",
       "      <td>NZ</td>\n",
       "      <td>2.0</td>\n",
       "      <td>2023-07-24</td>\n",
       "      <td>1.5250</td>\n",
       "      <td>5.365</td>\n",
       "      <td>2022-07-14 05:17:00</td>\n",
       "      <td>1.58</td>\n",
       "      <td>Auction Ads</td>\n",
       "      <td>auction_relation</td>\n",
       "    </tr>\n",
       "  </tbody>\n",
       "</table>\n",
       "</div>"
      ],
      "text/plain": [
       "              ad_id delivery_country  punish_num latest_punish_begin_date  \\\n",
       "0  1747578422390810               US         1.0               2023-07-24   \n",
       "1  1758543228094480               SA         1.0               2023-06-14   \n",
       "2  1738303151826990               AU         2.0               2023-07-24   \n",
       "3  1738303920938010               NZ         2.0               2023-07-24   \n",
       "4  1738304016410620               NZ         2.0               2023-07-24   \n",
       "\n",
       "   ad_revenue  avg_ad_revenue          start_time  baseline_st product_line  \\\n",
       "0   5132.1700        4795.250 2022-10-24 14:36:00         1.78  Auction Ads   \n",
       "1   1976.2500        1063.767 2023-02-22 15:50:00         1.67          RIE   \n",
       "2      1.7355           5.365 2022-07-14 05:00:00         1.84  Auction Ads   \n",
       "3         NaN           5.365 2022-07-14 05:16:00         1.58  Auction Ads   \n",
       "4      1.5250           5.365 2022-07-14 05:17:00         1.58  Auction Ads   \n",
       "\n",
       "               task_type_en  \n",
       "0          auction_relation  \n",
       "1  Ad Group Recall (Merged)  \n",
       "2          auction_relation  \n",
       "3          auction_relation  \n",
       "4          auction_relation  "
      ]
     },
     "execution_count": 9,
     "metadata": {},
     "output_type": "execute_result"
    }
   ],
   "source": [
    "# Drop redundant cols\n",
    "ads_dim2 = ads_dim2.drop('p_date', axis=1)\n",
    "\n",
    "ads_dim2.head()"
   ]
  },
  {
   "cell_type": "code",
   "execution_count": 10,
   "metadata": {},
   "outputs": [
    {
     "name": "stdout",
     "output_type": "stream",
     "text": [
      " \"queue_market\" : 20959\n",
      " \"ad_revenue\" : 10495\n",
      " \"start_time\" : 6600\n"
     ]
    },
    {
     "data": {
      "text/plain": [
       "6600"
      ]
     },
     "execution_count": 10,
     "metadata": {},
     "output_type": "execute_result"
    }
   ],
   "source": [
    "for col in ads_dimension_no_duplicates.columns:\n",
    "    if ads_dimension_no_duplicates[col].isna().sum() > 0:\n",
    "        print(f' \"{col}\" : {ads_dimension_no_duplicates[col].isna().sum()}')\n",
    "    else:\n",
    "        continue\n",
    "\n",
    "null_rows = ads_dimension_no_duplicates[ads_dimension_no_duplicates[['start_time', 'ad_revenue']].isnull().all(axis=1)]\n",
    "len(null_rows)"
   ]
  },
  {
   "cell_type": "markdown",
   "metadata": {},
   "source": [
    "## Data Exploration"
   ]
  },
  {
   "cell_type": "code",
   "execution_count": 43,
   "metadata": {},
   "outputs": [
    {
     "name": "stdout",
     "output_type": "stream",
     "text": [
      "                  count       mean         std   min     25%     50%    75%  \\\n",
      "punish_num      39564.0   0.067208    0.338988  0.00  0.0000  0.0000   0.00   \n",
      "baseline_st     39564.0   1.197242    0.660816  0.54  0.5400  1.3600   1.78   \n",
      "ad_revenue      29069.0  73.611591  493.263304  0.00  1.3724  5.8900  20.07   \n",
      "avg_ad_revenue  39564.0  23.232728  188.340563  0.00  0.8219  2.5395   8.05   \n",
      "\n",
      "                       max  \n",
      "punish_num         16.0000  \n",
      "baseline_st         7.5900  \n",
      "ad_revenue      27100.6200  \n",
      "avg_ad_revenue  17144.4986  \n"
     ]
    }
   ],
   "source": [
    "import pandas as pd\n",
    "\n",
    "# Assuming you have already calculated and printed the descriptive statistics for each column\n",
    "numerical_columns = ['punish_num', 'baseline_st', 'ad_revenue', 'avg_ad_revenue']\n",
    "\n",
    "# Create a dictionary to store the statistics\n",
    "statistics_dict = {}\n",
    "\n",
    "# Loop through the numerical columns and store the statistics in the dictionary\n",
    "for column in numerical_columns:\n",
    "    statistics = ads_dim2[column].describe()\n",
    "    statistics_dict[column] = statistics\n",
    "\n",
    "# Create a DataFrame from the dictionary\n",
    "statistics_df = pd.DataFrame(statistics_dict)\n",
    "\n",
    "# Transpose the DataFrame for better readability\n",
    "statistics_df = statistics_df.T\n",
    "\n",
    "# Display the table of statistics\n",
    "print(statistics_df)\n"
   ]
  },
  {
   "cell_type": "markdown",
   "metadata": {},
   "source": [
    "### Numerical Variables "
   ]
  },
  {
   "cell_type": "markdown",
   "metadata": {},
   "source": [
    "#### Histogram"
   ]
  },
  {
   "cell_type": "code",
   "execution_count": 11,
   "metadata": {},
   "outputs": [
    {
     "data": {
      "image/png": "[encoded data removed]",
      "text/plain": [
       "<Figure size 1500x500 with 4 Axes>"
      ]
     },
     "metadata": {},
     "output_type": "display_data"
    }
   ],
   "source": [
    "plt.figure(figsize=(15, 5))\n",
    "numerical_columns = [ 'punish_num','baseline_st' ,'ad_revenue', 'avg_ad_revenue']\n",
    "\n",
    "for i, column_name in enumerate(numerical_columns, 1):\n",
    "    plt.subplot(1, len(numerical_columns), i)\n",
    "    plt.hist(ads_dim2[column_name], bins=10, edgecolor='black', alpha=0.7)\n",
    "    plt.title(f'Histogram of {column_name}')\n",
    "    plt.xlabel(column_name)\n",
    "    plt.ylabel('Frequency')\n",
    "\n",
    "plt.tight_layout()\n",
    "plt.show()\n"
   ]
  },
  {
   "cell_type": "code",
   "execution_count": 22,
   "metadata": {},
   "outputs": [
    {
     "data": {
      "image/png": "[encoded data removed]",
      "text/plain": [
       "<Figure size 1600x800 with 4 Axes>"
      ]
     },
     "metadata": {},
     "output_type": "display_data"
    }
   ],
   "source": [
    "# Select numerical columns for outlier analysis\n",
    "numerical_columns = [ 'punish_num','baseline_st' ,'ad_revenue', 'avg_ad_revenue']\n",
    "# Create boxplots for each numerical column\n",
    "plt.figure(figsize=(16, 8))\n",
    "for i, column in enumerate(numerical_columns, 1):\n",
    "    plt.subplot(2, 3, i)\n",
    "    sns.boxplot(data=ads_dim2, y=column)\n",
    "    plt.title(f'Boxplot of {column}')\n",
    "    plt.ylabel(column)\n",
    "\n",
    "plt.tight_layout()\n",
    "plt.show()\n",
    "\n",
    "\n"
   ]
  },
  {
   "cell_type": "markdown",
   "metadata": {},
   "source": [
    "### Find the number of outliers per numerical column"
   ]
  },
  {
   "cell_type": "code",
   "execution_count": 35,
   "metadata": {},
   "outputs": [
    {
     "name": "stdout",
     "output_type": "stream",
     "text": [
      "The number of outliers for punish_num =  7\n",
      "10     16.0\n",
      "11     16.0\n",
      "12     16.0\n",
      "15     16.0\n",
      "16     16.0\n",
      "508    12.0\n",
      "531    12.0\n",
      "Name: punish_num, dtype: float64\n",
      "The number of outliers for baseline_st =  23\n",
      "10     3.21\n",
      "11     3.21\n",
      "12     3.21\n",
      "15     3.21\n",
      "16     3.21\n",
      "508    2.14\n",
      "531    2.14\n",
      "Name: baseline_st, dtype: float64\n"
     ]
    }
   ],
   "source": [
    "\n",
    "\n",
    "punish_num_outliers = ads_dim2[ads_dim2['punish_num'] > 10]\n",
    "\n",
    "print(\"The number of outliers for punish_num = \", len(punish_num_outliers))\n",
    "print(punish_num_outliers[\"punish_num\"])\n",
    "\n",
    "\n",
    "\n",
    "baseline_st_outliers = ads_dim2[ads_dim2['baseline_st'] > 5]\n",
    "\n",
    "print(\"The number of outliers for baseline_st = \", len(baseline_st_outliers))\n",
    "print(punish_num_outliers[\"baseline_st\"])\n"
   ]
  },
  {
   "cell_type": "code",
   "execution_count": 44,
   "metadata": {},
   "outputs": [
    {
     "name": "stdout",
     "output_type": "stream",
     "text": [
      "The number of outliers for ad_rev =  3\n",
      "10     517.5400\n",
      "11     530.7100\n",
      "12       0.0000\n",
      "15     547.4000\n",
      "16     528.1400\n",
      "508         NaN\n",
      "531      1.1753\n",
      "Name: ad_revenue, dtype: float64\n",
      "The number of outliers for avg_ad_revenue =  3\n",
      "10     23.7129\n",
      "11     23.7129\n",
      "12     23.7129\n",
      "15     23.7129\n",
      "16     23.7129\n",
      "508     2.4270\n",
      "531     2.4270\n",
      "Name: avg_ad_revenue, dtype: float64\n"
     ]
    }
   ],
   "source": [
    "ad_rev_outliers = ads_dim2[ads_dim2['ad_revenue'] > 20000]\n",
    "\n",
    "print(\"The number of outliers for ad_rev = \", len(ad_rev_outliers))\n",
    "print(punish_num_outliers[\"ad_revenue\"])\n",
    "\n",
    "avg_ad_revenue_outliers = ads_dim2[ads_dim2['avg_ad_revenue'] > 10000]\n",
    "\n",
    "print(\"The number of outliers for avg_ad_revenue = \", len(avg_ad_revenue_outliers))\n",
    "print(punish_num_outliers[\"avg_ad_revenue\"])"
   ]
  },
  {
   "cell_type": "markdown",
   "metadata": {},
   "source": [
    "### * Ya'll wna remove these outliers ? (- summer)"
   ]
  },
  {
   "cell_type": "markdown",
   "metadata": {},
   "source": [
    "### Categorical Variables "
   ]
  },
  {
   "cell_type": "code",
   "execution_count": 48,
   "metadata": {},
   "outputs": [
    {
     "data": {
      "image/png": "[encoded data removed]",
      "text/plain": [
       "<Figure size 800x600 with 1 Axes>"
      ]
     },
     "metadata": {},
     "output_type": "display_data"
    },
    {
     "data": {
      "image/png": "[encoded data removed]",
      "text/plain": [
       "<Figure size 800x600 with 1 Axes>"
      ]
     },
     "metadata": {},
     "output_type": "display_data"
    },
    {
     "data": {
      "image/png": "[encoded data removed]",
      "text/plain": [
       "<Figure size 800x600 with 1 Axes>"
      ]
     },
     "metadata": {},
     "output_type": "display_data"
    }
   ],
   "source": [
    "cat_cols = [ 'delivery_country','product_line' ,'task_type_en']\n",
    "\n",
    "# Create a bar plot for each categorical column\n",
    "for column in cat_cols:\n",
    "    plt.figure(figsize=(8, 6))\n",
    "    sns.countplot(data=ads_dim2, x=column)\n",
    "    plt.title(f'Bar Plot of {column}')\n",
    "    plt.xlabel(column)\n",
    "    plt.ylabel('Count')\n",
    "    plt.show()"
   ]
  },
  {
   "cell_type": "code",
   "execution_count": 14,
   "metadata": {},
   "outputs": [
    {
     "data": {
      "text/html": [
       "<div>\n",
       "<style scoped>\n",
       "    .dataframe tbody tr th:only-of-type {\n",
       "        vertical-align: middle;\n",
       "    }\n",
       "\n",
       "    .dataframe tbody tr th {\n",
       "        vertical-align: top;\n",
       "    }\n",
       "\n",
       "    .dataframe thead th {\n",
       "        text-align: right;\n",
       "    }\n",
       "</style>\n",
       "<table border=\"1\" class=\"dataframe\">\n",
       "  <thead>\n",
       "    <tr style=\"text-align: right;\">\n",
       "      <th></th>\n",
       "      <th>p_date</th>\n",
       "      <th>ad_id</th>\n",
       "      <th>delivery_country</th>\n",
       "      <th>queue_market</th>\n",
       "      <th>punish_num</th>\n",
       "      <th>latest_punish_begin_date</th>\n",
       "      <th>ad_revenue</th>\n",
       "      <th>avg_ad_revenue</th>\n",
       "      <th>start_time</th>\n",
       "      <th>baseline_st</th>\n",
       "      <th>product_line</th>\n",
       "      <th>task_type_en</th>\n",
       "    </tr>\n",
       "  </thead>\n",
       "  <tbody>\n",
       "    <tr>\n",
       "      <th>3</th>\n",
       "      <td>20230807</td>\n",
       "      <td>1738303920938010</td>\n",
       "      <td>NZ</td>\n",
       "      <td>NZ</td>\n",
       "      <td>2.0</td>\n",
       "      <td>2023-07-24</td>\n",
       "      <td>NaN</td>\n",
       "      <td>5.3650</td>\n",
       "      <td>2022-07-14 05:16:00</td>\n",
       "      <td>1.58</td>\n",
       "      <td>Auction Ads</td>\n",
       "      <td>auction_relation</td>\n",
       "    </tr>\n",
       "    <tr>\n",
       "      <th>262</th>\n",
       "      <td>20230807</td>\n",
       "      <td>1772998101648410</td>\n",
       "      <td>VN</td>\n",
       "      <td>VN</td>\n",
       "      <td>3.0</td>\n",
       "      <td>2023-08-02</td>\n",
       "      <td>NaN</td>\n",
       "      <td>2.9423</td>\n",
       "      <td>2023-08-01 03:56:00</td>\n",
       "      <td>2.13</td>\n",
       "      <td>RIE</td>\n",
       "      <td>Ad Group Recall (Merged)</td>\n",
       "    </tr>\n",
       "    <tr>\n",
       "      <th>288</th>\n",
       "      <td>20230807</td>\n",
       "      <td>1773112965960700</td>\n",
       "      <td>US</td>\n",
       "      <td>USCA</td>\n",
       "      <td>2.0</td>\n",
       "      <td>2023-08-07</td>\n",
       "      <td>NaN</td>\n",
       "      <td>9.9047</td>\n",
       "      <td>2023-08-02 10:28:00</td>\n",
       "      <td>1.78</td>\n",
       "      <td>Auction Ads</td>\n",
       "      <td>auction_relation</td>\n",
       "    </tr>\n",
       "    <tr>\n",
       "      <th>411</th>\n",
       "      <td>20230807</td>\n",
       "      <td>1773231382949920</td>\n",
       "      <td>BR</td>\n",
       "      <td>BR</td>\n",
       "      <td>1.0</td>\n",
       "      <td>2023-08-07</td>\n",
       "      <td>NaN</td>\n",
       "      <td>0.4337</td>\n",
       "      <td>2023-08-04 10:00:00</td>\n",
       "      <td>1.70</td>\n",
       "      <td>RIE</td>\n",
       "      <td>Ad Group Recall (Merged)</td>\n",
       "    </tr>\n",
       "    <tr>\n",
       "      <th>426</th>\n",
       "      <td>20230807</td>\n",
       "      <td>1773312757473310</td>\n",
       "      <td>FR</td>\n",
       "      <td>FR</td>\n",
       "      <td>1.0</td>\n",
       "      <td>2023-07-27</td>\n",
       "      <td>NaN</td>\n",
       "      <td>2.7379</td>\n",
       "      <td>2023-08-04 16:23:00</td>\n",
       "      <td>1.97</td>\n",
       "      <td>Auction Ads</td>\n",
       "      <td>auction_relation</td>\n",
       "    </tr>\n",
       "    <tr>\n",
       "      <th>...</th>\n",
       "      <td>...</td>\n",
       "      <td>...</td>\n",
       "      <td>...</td>\n",
       "      <td>...</td>\n",
       "      <td>...</td>\n",
       "      <td>...</td>\n",
       "      <td>...</td>\n",
       "      <td>...</td>\n",
       "      <td>...</td>\n",
       "      <td>...</td>\n",
       "      <td>...</td>\n",
       "      <td>...</td>\n",
       "    </tr>\n",
       "    <tr>\n",
       "      <th>40673</th>\n",
       "      <td>20230807</td>\n",
       "      <td>1773517805189120</td>\n",
       "      <td>TR</td>\n",
       "      <td>NaN</td>\n",
       "      <td>0.0</td>\n",
       "      <td>2000-01-01</td>\n",
       "      <td>NaN</td>\n",
       "      <td>0.0000</td>\n",
       "      <td>NaT</td>\n",
       "      <td>0.54</td>\n",
       "      <td>Non-Auction Ads</td>\n",
       "      <td>Promote</td>\n",
       "    </tr>\n",
       "    <tr>\n",
       "      <th>40674</th>\n",
       "      <td>20230807</td>\n",
       "      <td>1773472206047230</td>\n",
       "      <td>VN</td>\n",
       "      <td>NaN</td>\n",
       "      <td>0.0</td>\n",
       "      <td>2000-01-01</td>\n",
       "      <td>NaN</td>\n",
       "      <td>0.0000</td>\n",
       "      <td>NaT</td>\n",
       "      <td>0.54</td>\n",
       "      <td>Non-Auction Ads</td>\n",
       "      <td>Promote</td>\n",
       "    </tr>\n",
       "    <tr>\n",
       "      <th>40675</th>\n",
       "      <td>20230807</td>\n",
       "      <td>1773607712030720</td>\n",
       "      <td>BR</td>\n",
       "      <td>NaN</td>\n",
       "      <td>0.0</td>\n",
       "      <td>2000-01-01</td>\n",
       "      <td>NaN</td>\n",
       "      <td>0.0000</td>\n",
       "      <td>NaT</td>\n",
       "      <td>0.54</td>\n",
       "      <td>Non-Auction Ads</td>\n",
       "      <td>Promote</td>\n",
       "    </tr>\n",
       "    <tr>\n",
       "      <th>40676</th>\n",
       "      <td>20230807</td>\n",
       "      <td>1773589699308540</td>\n",
       "      <td>BE</td>\n",
       "      <td>NaN</td>\n",
       "      <td>0.0</td>\n",
       "      <td>2000-01-01</td>\n",
       "      <td>NaN</td>\n",
       "      <td>0.0000</td>\n",
       "      <td>NaT</td>\n",
       "      <td>0.54</td>\n",
       "      <td>Non-Auction Ads</td>\n",
       "      <td>Promote</td>\n",
       "    </tr>\n",
       "    <tr>\n",
       "      <th>40678</th>\n",
       "      <td>20230807</td>\n",
       "      <td>1773608138524670</td>\n",
       "      <td>BR</td>\n",
       "      <td>NaN</td>\n",
       "      <td>0.0</td>\n",
       "      <td>2000-01-01</td>\n",
       "      <td>NaN</td>\n",
       "      <td>0.0000</td>\n",
       "      <td>NaT</td>\n",
       "      <td>0.54</td>\n",
       "      <td>Non-Auction Ads</td>\n",
       "      <td>Promote</td>\n",
       "    </tr>\n",
       "  </tbody>\n",
       "</table>\n",
       "<p>10495 rows × 12 columns</p>\n",
       "</div>"
      ],
      "text/plain": [
       "         p_date             ad_id delivery_country queue_market  punish_num  \\\n",
       "3      20230807  1738303920938010               NZ           NZ         2.0   \n",
       "262    20230807  1772998101648410               VN           VN         3.0   \n",
       "288    20230807  1773112965960700               US         USCA         2.0   \n",
       "411    20230807  1773231382949920               BR           BR         1.0   \n",
       "426    20230807  1773312757473310               FR           FR         1.0   \n",
       "...         ...               ...              ...          ...         ...   \n",
       "40673  20230807  1773517805189120               TR          NaN         0.0   \n",
       "40674  20230807  1773472206047230               VN          NaN         0.0   \n",
       "40675  20230807  1773607712030720               BR          NaN         0.0   \n",
       "40676  20230807  1773589699308540               BE          NaN         0.0   \n",
       "40678  20230807  1773608138524670               BR          NaN         0.0   \n",
       "\n",
       "      latest_punish_begin_date  ad_revenue  avg_ad_revenue  \\\n",
       "3                   2023-07-24         NaN          5.3650   \n",
       "262                 2023-08-02         NaN          2.9423   \n",
       "288                 2023-08-07         NaN          9.9047   \n",
       "411                 2023-08-07         NaN          0.4337   \n",
       "426                 2023-07-27         NaN          2.7379   \n",
       "...                        ...         ...             ...   \n",
       "40673               2000-01-01         NaN          0.0000   \n",
       "40674               2000-01-01         NaN          0.0000   \n",
       "40675               2000-01-01         NaN          0.0000   \n",
       "40676               2000-01-01         NaN          0.0000   \n",
       "40678               2000-01-01         NaN          0.0000   \n",
       "\n",
       "               start_time  baseline_st     product_line  \\\n",
       "3     2022-07-14 05:16:00         1.58      Auction Ads   \n",
       "262   2023-08-01 03:56:00         2.13              RIE   \n",
       "288   2023-08-02 10:28:00         1.78      Auction Ads   \n",
       "411   2023-08-04 10:00:00         1.70              RIE   \n",
       "426   2023-08-04 16:23:00         1.97      Auction Ads   \n",
       "...                   ...          ...              ...   \n",
       "40673                 NaT         0.54  Non-Auction Ads   \n",
       "40674                 NaT         0.54  Non-Auction Ads   \n",
       "40675                 NaT         0.54  Non-Auction Ads   \n",
       "40676                 NaT         0.54  Non-Auction Ads   \n",
       "40678                 NaT         0.54  Non-Auction Ads   \n",
       "\n",
       "                   task_type_en  \n",
       "3              auction_relation  \n",
       "262    Ad Group Recall (Merged)  \n",
       "288            auction_relation  \n",
       "411    Ad Group Recall (Merged)  \n",
       "426            auction_relation  \n",
       "...                         ...  \n",
       "40673                   Promote  \n",
       "40674                   Promote  \n",
       "40675                   Promote  \n",
       "40676                   Promote  \n",
       "40678                   Promote  \n",
       "\n",
       "[10495 rows x 12 columns]"
      ]
     },
     "execution_count": 14,
     "metadata": {},
     "output_type": "execute_result"
    }
   ],
   "source": [
    "# ad revenue that is null \n",
    "blank_ad_revenue_condition = ads_dimension_no_duplicates['ad_revenue'].isna()\n",
    "filtered_df_ads = ads_dimension_no_duplicates[blank_ad_revenue_condition]\n",
    "filtered_df_ads\n"
   ]
  },
  {
   "cell_type": "markdown",
   "metadata": {},
   "source": [
    "### Non Duplicated AD_ID"
   ]
  },
  {
   "cell_type": "code",
   "execution_count": 15,
   "metadata": {},
   "outputs": [
    {
     "data": {
      "text/plain": [
       "Int64Index([1773528586443780, 1773472041808890, 1773485138420730,\n",
       "            1773536852600830, 1773530064765950, 1773573053515780,\n",
       "            1773521721975810, 1773567323185150, 1773546321704960,\n",
       "            1773546245980160,\n",
       "            ...\n",
       "            1773607685605410, 1773603807255580, 1773606864464940,\n",
       "            1773606537550840, 1773586437829630, 1773586243261530,\n",
       "            1773608691356680, 1773555425789970, 1773549770898450,\n",
       "            1773608138524670],\n",
       "           dtype='int64', length=9977)"
      ]
     },
     "execution_count": 15,
     "metadata": {},
     "output_type": "execute_result"
    }
   ],
   "source": [
    "# check for non duplicated ad_id\n",
    "ad_id_counts = filtered_df_ads['ad_id'].value_counts()\n",
    "non_duplicated_ad_ids = ad_id_counts[ad_id_counts == 1].index\n",
    "non_duplicated_ad_ids"
   ]
  },
  {
   "cell_type": "markdown",
   "metadata": {},
   "source": [
    "#### For non duplicated ad_ids, there is only one row per ad, and thus we will choose to directly take the average_ad_revenue as the ad_revenue for the said ad"
   ]
  },
  {
   "cell_type": "markdown",
   "metadata": {},
   "source": [
    "### Dupilcated AD_ID (I.e. there are several rows with the same AD_ID)"
   ]
  },
  {
   "cell_type": "code",
   "execution_count": 16,
   "metadata": {},
   "outputs": [
    {
     "data": {
      "text/plain": [
       "10132"
      ]
     },
     "execution_count": 16,
     "metadata": {},
     "output_type": "execute_result"
    }
   ],
   "source": [
    "\n",
    "# look at the rows where ad_id is duplicated \n",
    "unique_values = filtered_df_ads['ad_id'].duplicated()\n",
    "duplicate_rows = filtered_df_ads[unique_values]\n",
    "\n",
    "unique_revenue_counts = filtered_df_ads.groupby('ad_id')['avg_ad_revenue'].nunique()\n",
    "len(unique_revenue_counts)\n",
    "\n",
    "#10133\n",
    "\n",
    "\n",
    "num_rows_with_unique_counts_1 = (unique_revenue_counts == 1).sum()\n",
    "num_rows_with_unique_counts_1\n",
    "\n",
    "#10132 rows with unique counts --> suggesting that all the rows have the same average_revenue --> thus we can take it as this particular ad has ad_revenue = avg_ad_revenue"
   ]
  },
  {
   "cell_type": "code",
   "execution_count": 17,
   "metadata": {},
   "outputs": [
    {
     "data": {
      "text/plain": [
       "Int64Index([1773587205890050], dtype='int64', name='ad_id')"
      ]
     },
     "execution_count": 17,
     "metadata": {},
     "output_type": "execute_result"
    }
   ],
   "source": [
    "\n",
    "non_unique_ad_ids = unique_revenue_counts[unique_revenue_counts != 1].index\n",
    "non_unique_ad_ids\n",
    "\n",
    "# there is one ad_id 1773587205890050, which has a different avg_ad_rev, in this case, we can take it the ad_revenue for the respective country to be the indicated avg_ad_revenue. "
   ]
  },
  {
   "cell_type": "markdown",
   "metadata": {},
   "source": [
    "####All in all, "
   ]
  },
  {
   "cell_type": "markdown",
   "metadata": {},
   "source": [
    "## Moderator Dimension"
   ]
  },
  {
   "cell_type": "code",
   "execution_count": 18,
   "metadata": {},
   "outputs": [
    {
     "name": "stdout",
     "output_type": "stream",
     "text": [
      " \"Productivity\" : 129\n",
      " \"Utilisation %\" : 129\n",
      "             moderator                                             market  \\\n",
      "0     1689841547143170  [\"SA\", \"OM\", \"BH\", \"QA\", \"JO\", \"IQ\", \"KW\", \"EG...   \n",
      "265   1694555598292994                                             [\"NL\"]   \n",
      "412   1761892264652818                                             [\"DE\"]   \n",
      "510            1005827                                             [\"BR\"]   \n",
      "529            2796851                                             [\"KZ\"]   \n",
      "892            3778633                                             [\"TR\"]   \n",
      "916            5581253                                             [\"DK\"]   \n",
      "943            9699751                                             [\"ID\"]   \n",
      "1283           1822136                                       [\"GB\", \"IE\"]   \n",
      "1331           3297271                                          [\"OTHER\"]   \n",
      "1393  1695027913818113                                             [\"IT\"]   \n",
      "\n",
      "      Productivity  Utilisation %  handling time             accuracy   \n",
      "0       286.217674       0.812403         123549                   -    \n",
      "265      46.386087       0.196601          29984                   -    \n",
      "412      31.433043       0.077645          48106                   -    \n",
      "510      76.587500       0.346677         107285                   -    \n",
      "529      26.285000       0.634344          36862                   -    \n",
      "892     107.352500       0.329443          42022                   -    \n",
      "916      92.835000       0.254167          14774                   -    \n",
      "943     194.980000       0.716911          88854                   -    \n",
      "1283    154.842500       0.745224          90290                   -    \n",
      "1331           NaN            NaN              0                   -    \n",
      "1393    147.020000       0.335302          25186                   -    \n"
     ]
    }
   ],
   "source": [
    "# find number of null values in each column\n",
    "\n",
    "for col in mod_dim.columns:\n",
    "    if mod_dim[col].isna().sum() > 0:\n",
    "        print(f' \"{col}\" : {mod_dim[col].isna().sum()}')\n",
    "    else:\n",
    "        continue\n",
    "\n",
    "# accuracy colum contains \"-\" values\n",
    "non_numeric_values = mod_dim[pd.to_numeric(mod_dim[\" accuracy \"], errors='coerce').isna()]\n",
    "len(non_numeric_values)\n",
    "\n",
    "print(non_numeric_values)"
   ]
  },
  {
   "cell_type": "code",
   "execution_count": 19,
   "metadata": {},
   "outputs": [
    {
     "data": {
      "text/plain": [
       "1275"
      ]
     },
     "execution_count": 19,
     "metadata": {},
     "output_type": "execute_result"
    }
   ],
   "source": [
    "# remove rows that have null values for productivity and utilisation, and \"-\" values for accuracy\n",
    "column_name = ' accuracy '\n",
    "numeric_mask = pd.to_numeric(mod_dim[column_name], errors='coerce').notna()\n",
    "cleaned_mod_dim = mod_dim[numeric_mask]\n",
    "\n",
    "len(cleaned_mod_dim)\n",
    "\n",
    "columns_to_check = ['Productivity', 'Utilisation %']\n",
    "\n",
    "cleaned_mod_dim = cleaned_mod_dim.dropna(subset=columns_to_check, how='all')\n",
    "\n",
    "len(cleaned_mod_dim)\n"
   ]
  },
  {
   "cell_type": "code",
   "execution_count": 20,
   "metadata": {},
   "outputs": [
    {
     "name": "stdout",
     "output_type": "stream",
     "text": [
      "Index(['moderator', 'market', 'Productivity', 'Utilisation %', 'handling time',\n",
      "       ' accuracy '],\n",
      "      dtype='object')\n"
     ]
    }
   ],
   "source": [
    "print(mod_dim.columns)"
   ]
  }
 ],
 "metadata": {
  "kernelspec": {
   "display_name": "Python 3",
   "language": "python",
   "name": "python3"
  },
  "language_info": {
   "codemirror_mode": {
    "name": "ipython",
    "version": 3
   },
   "file_extension": ".py",
   "mimetype": "text/x-python",
   "name": "python",
   "nbconvert_exporter": "python",
   "pygments_lexer": "ipython3",
   "version": "3.11.0"
  },
  "orig_nbformat": 4
 },
 "nbformat": 4,
 "nbformat_minor": 2
}
