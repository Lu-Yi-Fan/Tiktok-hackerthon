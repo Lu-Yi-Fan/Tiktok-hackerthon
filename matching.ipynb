{
 "cells": [
  {
   "cell_type": "code",
   "execution_count": 3,
   "metadata": {},
   "outputs": [
    {
     "name": "stdout",
     "output_type": "stream",
     "text": [
      "   log_punish  log_ad_revenue  log_avg_ad_revenue  log_baseline_st  \\\n",
      "0   -4.499810        5.614889            6.497405         0.000000   \n",
      "1   -4.499810        4.660561            4.991595        -0.092894   \n",
      "2   -3.806662       -2.377100           -0.298080         0.047253   \n",
      "3   -3.806662        1.371784           -0.298080        -0.175891   \n",
      "4   -3.806662       -2.506401           -0.298080        -0.175891   \n",
      "\n",
      "   days_since_punish  ad_run_time             ad_id      y_pred  \n",
      "0                 14   287.391667  1747578422390810  105.916081  \n",
      "1                 54   166.340278  1758543228094480   68.414596  \n",
      "2                 14   389.791667  1738303151826990  136.714458  \n",
      "3                 14   389.780556  1738303920938010  137.472888  \n",
      "4                 14   389.779861  1738304016410620  136.648553  \n"
     ]
    }
   ],
   "source": [
    "## download files \n",
    "\n",
    "import pandas as pd\n",
    "import matplotlib.pyplot as plt\n",
    "import seaborn as sns\n",
    "import numpy as np\n",
    "\n",
    "ads_dimension = pd.read_excel(\"df_gb.xlsx\")\n",
    "mod_dim = pd.read_excel(\"mod_df_lr.xlsx\")\n",
    "\n",
    "\n",
    "print(ads_dimension.head())"
   ]
  },
  {
   "cell_type": "code",
   "execution_count": 4,
   "metadata": {},
   "outputs": [
    {
     "name": "stdout",
     "output_type": "stream",
     "text": [
      "   Productivity  Utilisation %  handling time  accuracy         moderator  \\\n",
      "0      0.816477       3.692560       0.655482  5.082437  1686755036370945   \n",
      "1      1.566310       4.291542       1.305123  5.376344  1741913197768705   \n",
      "2      2.119487       4.062640       2.304325  4.953405  1743415203890193   \n",
      "3      2.870348       4.417603       2.521499  4.566308  1710346282427393   \n",
      "4      1.369036       3.556048       2.073515  3.505376  1748544247125010   \n",
      "\n",
      "                                       queue_market  mod_score_pred  \n",
      "0                                            [\"RO\"]        2.784096  \n",
      "1                                            [\"VN\"]        2.890704  \n",
      "2  [\"MX\", \"UY\", \"CL\", \"AR\", \"CO\", \"EC\", \"PE\", \"BR\"]        3.046557  \n",
      "3                                            [\"PH\"]        3.268213  \n",
      "4  [\"MX\", \"UY\", \"CO\", \"CL\", \"AR\", \"EC\", \"PE\", \"BR\"]        3.163392  \n"
     ]
    }
   ],
   "source": [
    "print(mod_dim.head())"
   ]
  }
 ],
 "metadata": {
  "kernelspec": {
   "display_name": "ipykernel_py3",
   "language": "python",
   "name": "python3"
  },
  "language_info": {
   "codemirror_mode": {
    "name": "ipython",
    "version": 3
   },
   "file_extension": ".py",
   "mimetype": "text/x-python",
   "name": "python",
   "nbconvert_exporter": "python",
   "pygments_lexer": "ipython3",
   "version": "3.11.0"
  },
  "orig_nbformat": 4
 },
 "nbformat": 4,
 "nbformat_minor": 2
}
